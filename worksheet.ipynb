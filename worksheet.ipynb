{
 "cells": [
  {
   "cell_type": "code",
   "execution_count": 4,
   "id": "553878ef-381a-45d9-9c2d-afccc17ecf3d",
   "metadata": {},
   "outputs": [],
   "source": [
    "import os"
   ]
  },
  {
   "cell_type": "code",
   "execution_count": 5,
   "id": "31c9a258-8b78-4db7-871c-c40fd1c6fd86",
   "metadata": {},
   "outputs": [],
   "source": [
    "from lxml import etree"
   ]
  },
  {
   "cell_type": "code",
   "execution_count": 6,
   "id": "bb92cbb1-4eaf-4ab7-bba7-7b52bb074e9c",
   "metadata": {},
   "outputs": [],
   "source": [
    "os.environ['CMD_LINE'] = '-v'"
   ]
  },
  {
   "cell_type": "code",
   "execution_count": 9,
   "id": "bc36800d-eb0b-4731-a0a5-77dd3aab9624",
   "metadata": {},
   "outputs": [],
   "source": [
    "from peroxide.filter import Filter"
   ]
  },
  {
   "cell_type": "code",
   "execution_count": 11,
   "id": "2a38f571-42f6-4fff-9290-e9c8d2c6372f",
   "metadata": {},
   "outputs": [
    {
     "data": {
      "text/plain": [
       "{'__doc__'}"
      ]
     },
     "execution_count": 11,
     "metadata": {},
     "output_type": "execute_result"
    }
   ],
   "source": [
    "set(dir(etree)).intersection(dir(Filter))"
   ]
  },
  {
   "cell_type": "code",
   "execution_count": 12,
   "id": "1fcaa004-f3c9-4b7a-85e9-daf5505bf641",
   "metadata": {},
   "outputs": [
    {
     "name": "stdout",
     "output_type": "stream",
     "text": [
      "<class 'type'>\n",
      "<class 'module'>\n"
     ]
    }
   ],
   "source": [
    "print(type(Filter))\n",
    "print(type(etree))"
   ]
  },
  {
   "cell_type": "code",
   "execution_count": null,
   "id": "a15a57dc-ff5b-4a36-82ca-cef7e1c476cc",
   "metadata": {},
   "outputs": [],
   "source": []
  }
 ],
 "metadata": {
  "kernelspec": {
   "display_name": "Python 3.13",
   "language": "python",
   "name": "python-3.13"
  },
  "language_info": {
   "codemirror_mode": {
    "name": "ipython",
    "version": 3
   },
   "file_extension": ".py",
   "mimetype": "text/x-python",
   "name": "python",
   "nbconvert_exporter": "python",
   "pygments_lexer": "ipython3",
   "version": "3.13.2"
  },
  "widgets": {
   "application/vnd.jupyter.widget-state+json": {
    "state": {},
    "version_major": 2,
    "version_minor": 0
   }
  }
 },
 "nbformat": 4,
 "nbformat_minor": 5
}
