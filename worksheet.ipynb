{
 "cells": [
  {
   "cell_type": "code",
   "execution_count": 1,
   "id": "3486ab75-abc5-4c71-9809-52a3f19e5388",
   "metadata": {},
   "outputs": [],
   "source": [
    "from pprint import pprint as pp\n",
    "import subprocess"
   ]
  },
  {
   "cell_type": "code",
   "execution_count": 31,
   "id": "a2325751-e5d2-4baf-a90e-9fd792ec1124",
   "metadata": {},
   "outputs": [],
   "source": [
    "from bs4 import BeautifulSoup as BS\n",
    "import magic"
   ]
  },
  {
   "cell_type": "code",
   "execution_count": 3,
   "id": "7520e610-1760-4610-890b-5854abaf4153",
   "metadata": {},
   "outputs": [],
   "source": [
    "GRAPHIC_FILE_EXTS = ['jpg', 'jpeg', 'png', 'gif', 'bmp', 'tiff', 'tif', 'webp', 'svg']"
   ]
  },
  {
   "cell_type": "code",
   "execution_count": 4,
   "id": "18ac9c6b-74d9-41b9-8fc2-246ea8a40f6b",
   "metadata": {},
   "outputs": [],
   "source": [
    "import os\n",
    "os.environ['CMD_LINE'] = ''"
   ]
  },
  {
   "cell_type": "code",
   "execution_count": 5,
   "id": "10abc744-9161-496c-a03c-5d994adbc1b3",
   "metadata": {},
   "outputs": [
    {
     "name": "stderr",
     "output_type": "stream",
     "text": [
      "2025-02-19 03:50:14,015 - INFO - Logging configuration complete.\n",
      "2025-02-19 03:50:14,016 - WARNING - /home/fuzzy/Documents/GitHub/peroxide-0.0.0/peroxide/__init__.py:146: UserWarning: This program is still in development. Beware of bugs!\n",
      "  warnings.warn(\"This program is still in development. Beware of bugs!\")\n",
      "\n",
      "2025-02-19 03:50:14,017 - INFO - CONFIG=PosixPath('/home/fuzzy/Documents/GitHub/peroxide-0.0.0/etc/config.ini')\n",
      "2025-02-19 03:50:14,019 - INFO - INPUT=''\n",
      "2025-02-19 03:50:14,019 - INFO - FOLLOW=False\n",
      "RECURSIVE=False\n",
      "PROCESS_ALL=False\n",
      "2025-02-19 03:50:14,020 - INFO - CWD=PosixPath('/home/fuzzy/Documents/GitHub/peroxide-0.0.0')\n"
     ]
    },
    {
     "name": "stdout",
     "output_type": "stream",
     "text": [
      "Initializing peroxide\n"
     ]
    }
   ],
   "source": [
    "from peroxide.startup import *"
   ]
  },
  {
   "cell_type": "code",
   "execution_count": 6,
   "id": "b1794872-fa76-44f2-842a-1247fde2d7b4",
   "metadata": {},
   "outputs": [
    {
     "data": {
      "text/plain": [
       "'.txt'"
      ]
     },
     "execution_count": 6,
     "metadata": {},
     "output_type": "execute_result"
    }
   ],
   "source": [
    "Path('input.txt').suffix"
   ]
  },
  {
   "cell_type": "code",
   "execution_count": 7,
   "id": "4cd86404-0b08-4990-ad54-92016a9b75aa",
   "metadata": {},
   "outputs": [],
   "source": [
    "from peroxide.tools import *"
   ]
  },
  {
   "cell_type": "code",
   "execution_count": 8,
   "id": "fbd1bc74-5bb9-4230-af6d-fa6ce55f3c21",
   "metadata": {},
   "outputs": [
    {
     "name": "stdout",
     "output_type": "stream",
     "text": [
      "absolute    group            is_socket   parser       samefile       write_bytes\n",
      "anchor      hardlink_to      is_symlink  parts        stat           write_text \n",
      "as_posix    home             iterdir     read_bytes   stem         \n",
      "as_uri      is_absolute      joinpath    read_text    suffix       \n",
      "chmod       is_block_device  lchmod      readlines    suffixes     \n",
      "cwd         is_char_device   lstat       readlink     symlink_to   \n",
      "drive       is_dir           match       relative_to  touch        \n",
      "exists      is_fifo          mkdir       rename       unlink       \n",
      "expanduser  is_file          name        replace      walk         \n",
      "ext         is_junction      open        resolve      with_name    \n",
      "from_uri    is_mount         owner       rglob        with_segments\n",
      "full_match  is_relative_to   parent      rmdir        with_stem    \n",
      "glob        is_reserved      parents     root         with_suffix  \n"
     ]
    }
   ],
   "source": [
    "public(Path)"
   ]
  },
  {
   "cell_type": "code",
   "execution_count": 9,
   "id": "80aa2667-d912-4d67-b6bd-e4e84785238d",
   "metadata": {},
   "outputs": [
    {
     "data": {
      "text/plain": [
       "PosixPath('/home/fuzzy/Documents/GitHub/peroxide-0.0.0')"
      ]
     },
     "execution_count": 9,
     "metadata": {},
     "output_type": "execute_result"
    }
   ],
   "source": [
    "Path.cwd()"
   ]
  },
  {
   "cell_type": "code",
   "execution_count": 10,
   "id": "e8dbf270-f9ce-4c6c-aa98-fe4ada39ccc7",
   "metadata": {},
   "outputs": [],
   "source": [
    "GM_ROCK_KIT_FILE = Path('data/GMRockKit Instrument Names.txt')\n",
    "ROCK_DRUM_KIT_FILE = Path('data/Rock Drum Kit Instrument Names.txt')"
   ]
  },
  {
   "cell_type": "code",
   "execution_count": 21,
   "id": "735e8acb-3447-4f35-96fa-4156b538b228",
   "metadata": {},
   "outputs": [],
   "source": [
    "GM_ROCK_KIT = GM_ROCK_KIT_FILE.readlines()\n",
    "ROCK_DRUM_KIT = ROCK_DRUM_KIT_FILE.readlines()"
   ]
  },
  {
   "cell_type": "code",
   "execution_count": null,
   "id": "ee30d387-a249-4137-9965-4a668d9ebde8",
   "metadata": {},
   "outputs": [],
   "source": [
    "columnize(ROCK_DRUM_KIT)"
   ]
  },
  {
   "cell_type": "code",
   "execution_count": 23,
   "id": "c4fee63d-f5f2-4026-935c-5a5ce0374a70",
   "metadata": {},
   "outputs": [],
   "source": [
    "INDEXED_ROCK_DRUM_KIT = list()"
   ]
  },
  {
   "cell_type": "code",
   "execution_count": 25,
   "id": "b3d346c2-1251-4e17-a814-2d6e8b4f5307",
   "metadata": {},
   "outputs": [],
   "source": [
    "for i, s in enumerate(ROCK_DRUM_KIT):\n",
    "    INDEXED_ROCK_DRUM_KIT.append(f'{i} - {s}')"
   ]
  },
  {
   "cell_type": "code",
   "execution_count": 26,
   "id": "73d2d8d7-d27e-4083-a29c-eb35f8a40bf6",
   "metadata": {},
   "outputs": [
    {
     "name": "stdout",
     "output_type": "stream",
     "text": [
      "0 - Sabian Hat Closed      15 - Snare1               30 - Pearl Kick  \n",
      "1 - Sabian Hat Pedal       16 - Snare Rock           31 - Cajon Thump \n",
      "2 - Sabian Hat Semi-Open   17 - Pearl Snare          32 - Cajon Slap  \n",
      "3 - Sabian Hat Open        18 - Pearl Snare Rimshot  33 - Maraca      \n",
      "4 - Sabian Hat Swish       19 - Pearl Side Stick     34 - Hand Clap   \n",
      "5 - Sabian Hat Choke       20 - Tom Hi               35 - Finger Snaps\n",
      "6 - Zildjian Splash        21 - tomhi2               36 - Bongo Hi    \n",
      "7 - Sabian Crash           22 - tomhi3               37 - Bongo Lo    \n",
      "8 - Crash                  23 - tomhi4               38 - Tambourine  \n",
      "9 - Zildjian Splash Choke  24 - Tom Mid              39 - Cowbell     \n",
      "10 - Ride 2                25 - Tom Low              40 - Clave       \n",
      "11 - Sabian Crash Flink    26 - Pearl Tom 1          41 - Woodblock Hi\n",
      "12 - Paiste Ride           27 - Pearl Tom 2          42 - Woodblock Lo\n",
      "13 - Paiste Ride Flink     28 - Pearl Tom Floor      43 - WaterglassHi\n",
      "14 - Paiste Bell           29 - BassDrum           \n"
     ]
    }
   ],
   "source": [
    "columnize(INDEXED_ROCK_DRUM_KIT)"
   ]
  },
  {
   "cell_type": "code",
   "execution_count": 19,
   "id": "d7593b36-42ee-4ec1-89a1-2f9eb28b39e5",
   "metadata": {},
   "outputs": [
    {
     "name": "stdout",
     "output_type": "stream",
     "text": [
      "Kick   Hand Clap      Hat Closed  Tom 1     Ride    Splash       \n",
      "Stick  Snare Rimshot  Tom 2       Hat Open  Crash   Hat Semi-Open\n",
      "Snare  Floor Tom      Hat Pedal   Cowbell   Ride 2  Bell         \n"
     ]
    }
   ],
   "source": [
    "columnize(GM_ROCK_KIT)"
   ]
  },
  {
   "cell_type": "code",
   "execution_count": 27,
   "id": "d8ce4d73-d7fa-4405-b214-8e6cb2338f58",
   "metadata": {},
   "outputs": [],
   "source": [
    "DRUM_MAPPING = dict()"
   ]
  },
  {
   "cell_type": "code",
   "execution_count": 28,
   "id": "c6eb5810-66e8-459c-a8f9-a4f89dbdbd70",
   "metadata": {},
   "outputs": [],
   "source": [
    "for s in GM_ROCK_KIT:\n",
    "    DRUM_MAPPING[s] = ''"
   ]
  },
  {
   "cell_type": "code",
   "execution_count": 29,
   "id": "83679cf8-63ce-4e45-af66-6b04907649d8",
   "metadata": {},
   "outputs": [],
   "source": [
    "DRUM_MAPPING['Kick'] = [29, 30, 31]\n",
    "DRUM_MAPPING['Stick'] = [19]\n",
    "DRUM_MAPPING['Snare'] = [15, 16, 17, 32]\n",
    "DRUM_MAPPING['Hand Clap'] = [34, 35]\n",
    "DRUM_MAPPING['Snare Rimshot'] = [18]\n",
    "DRUM_MAPPING['Floor Tom'] = [25, 28]\n",
    "DRUM_MAPPING['Hat Closed'] = [0]\n",
    "DRUM_MAPPING['Tom 2'] = [24, 27]\n",
    "DRUM_MAPPING['Hat Pedal'] = [1]\n",
    "DRUM_MAPPING['Tom 1'] = [20, 26]\n",
    "DRUM_MAPPING['Hat Open'] = [3]\n",
    "DRUM_MAPPING['Cowbell'] = [39]\n",
    "DRUM_MAPPING['Ride'] = [10, 12]\n",
    "DRUM_MAPPING['Crash'] = [7,8]\n",
    "DRUM_MAPPING['Ride 2'] = [13]\n",
    "DRUM_MAPPING['Splash'] = [6]\n",
    "DRUM_MAPPING['Hat Semi-Open'] = [2]\n",
    "DRUM_MAPPING['Bell'] = [14]"
   ]
  },
  {
   "cell_type": "code",
   "execution_count": 30,
   "id": "d23d9003-5771-4da9-900b-96d60ff3ffda",
   "metadata": {},
   "outputs": [
    {
     "data": {
      "text/plain": [
       "18"
      ]
     },
     "execution_count": 30,
     "metadata": {},
     "output_type": "execute_result"
    }
   ],
   "source": [
    "len(DRUM_MAPPING)"
   ]
  },
  {
   "cell_type": "code",
   "execution_count": null,
   "id": "6c1d8765-833e-4594-959f-2971cc574b98",
   "metadata": {},
   "outputs": [],
   "source": []
  }
 ],
 "metadata": {
  "kernelspec": {
   "display_name": "Python 3.13",
   "language": "python",
   "name": "python-3.13"
  },
  "language_info": {
   "codemirror_mode": {
    "name": "ipython",
    "version": 3
   },
   "file_extension": ".py",
   "mimetype": "text/x-python",
   "name": "python",
   "nbconvert_exporter": "python",
   "pygments_lexer": "ipython3",
   "version": "3.13.2"
  }
 },
 "nbformat": 4,
 "nbformat_minor": 5
}
