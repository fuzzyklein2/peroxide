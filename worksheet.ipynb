{
 "cells": [
  {
   "cell_type": "code",
   "execution_count": 6,
   "id": "c8367993-41c1-4c2b-bb2b-bb965163e0bf",
   "metadata": {},
   "outputs": [],
   "source": [
    "import os\n",
    "os.chdir(Path('Documents/GitHub/peroxide'))\n",
    "from pathlib import Path\n",
    "import site\n",
    "site.addsitedir(Path.home() / 'py/tools/tools')\n",
    "\n",
    "from tools import public\n"
   ]
  },
  {
   "cell_type": "code",
   "execution_count": 7,
   "id": "6264a2a7-ee18-4090-9041-355ee998c617",
   "metadata": {},
   "outputs": [
    {
     "data": {
      "text/plain": [
       "PosixPath('/home/fuzzy/Documents/GitHub/peroxide')"
      ]
     },
     "execution_count": 7,
     "metadata": {},
     "output_type": "execute_result"
    }
   ],
   "source": [
    "Path.cwd()"
   ]
  },
  {
   "cell_type": "code",
   "execution_count": null,
   "id": "5ab02a65-9eea-4925-9c2d-27f8f1b0efde",
   "metadata": {},
   "outputs": [],
   "source": []
  },
  {
   "cell_type": "code",
   "execution_count": 8,
   "id": "619c7af1-eb8b-46bc-9e7d-e18bde9905af",
   "metadata": {},
   "outputs": [],
   "source": [
    "import sys"
   ]
  },
  {
   "cell_type": "code",
   "execution_count": 9,
   "id": "6a690c5f-3158-4564-b457-f802a3adb493",
   "metadata": {},
   "outputs": [
    {
     "data": {
      "text/plain": [
       "'3.12.8 (main, Jan  8 2025, 10:51:12) [GCC 11.4.0]'"
      ]
     },
     "execution_count": 9,
     "metadata": {},
     "output_type": "execute_result"
    }
   ],
   "source": [
    "sys.version"
   ]
  },
  {
   "cell_type": "code",
   "execution_count": 14,
   "id": "ccf7bd03-a85c-482f-a676-39da2f50d759",
   "metadata": {},
   "outputs": [
    {
     "data": {
      "text/plain": [
       "['/home/fuzzy/Python-3.12.8/lib/python3.12/site-packages/ipykernel_launcher.py',\n",
       " '-f',\n",
       " '/home/fuzzy/.local/share/jupyter/runtime/kernel-fefd2302-b539-4f39-816a-a2defc0f2bc9.json']"
      ]
     },
     "execution_count": 14,
     "metadata": {},
     "output_type": "execute_result"
    }
   ],
   "source": [
    "sys.argv"
   ]
  },
  {
   "cell_type": "code",
   "execution_count": 10,
   "id": "a08560cf-cfc4-4879-bfd7-3df2bafb35a8",
   "metadata": {},
   "outputs": [
    {
     "data": {
      "text/plain": [
       "2025-01-24 00:12:37,608 - INFO - This is an info message displayed in the notebook."
      ]
     },
     "metadata": {},
     "output_type": "display_data"
    },
    {
     "data": {
      "text/plain": [
       "2025-01-24 00:12:37,611 - WARNING - This is a warning message shown in the notebook and saved to file."
      ]
     },
     "metadata": {},
     "output_type": "display_data"
    },
    {
     "data": {
      "text/plain": [
       "2025-01-24 00:12:37,613 - ERROR - This error message will be logged both in the notebook and in the log file."
      ]
     },
     "metadata": {},
     "output_type": "display_data"
    }
   ],
   "source": [
    "import logging\n",
    "from IPython.display import display\n",
    "import sys\n",
    "import os\n",
    "\n",
    "# Define global variable for log file\n",
    "LOG_FILE = \"notebook_output.log\"\n",
    "\n",
    "# Ensure the log file exists\n",
    "if not os.path.exists(LOG_FILE):\n",
    "    with open(LOG_FILE, 'w'):\n",
    "        pass  # Create an empty file\n",
    "\n",
    "# Custom handler to display logs in Jupyter notebook cells\n",
    "class JupyterHandler(logging.Handler):\n",
    "    def emit(self, record):\n",
    "        log_entry = self.format(record)\n",
    "        display({\"text/plain\": log_entry}, raw=True)\n",
    "\n",
    "# Function to set up logging\n",
    "def setup_logging():\n",
    "    logger = logging.getLogger()\n",
    "    if logger.hasHandlers():\n",
    "        logger.handlers.clear()  # Remove existing handlers to avoid duplication\n",
    "\n",
    "    # Set up logging to file\n",
    "    file_handler = logging.FileHandler(LOG_FILE, mode='a')\n",
    "    file_handler.setLevel(logging.DEBUG)\n",
    "    file_formatter = logging.Formatter('%(asctime)s - %(levelname)s - %(message)s')\n",
    "    file_handler.setFormatter(file_formatter)\n",
    "\n",
    "    # Set up logging to Jupyter output\n",
    "    jupyter_handler = JupyterHandler()\n",
    "    jupyter_handler.setLevel(logging.INFO)\n",
    "    jupyter_formatter = logging.Formatter('%(asctime)s - %(levelname)s - %(message)s')\n",
    "    jupyter_handler.setFormatter(jupyter_formatter)\n",
    "\n",
    "    # Set up logging to Jupyter notebook cell output (stdout)\n",
    "    stream_handler = logging.StreamHandler(sys.stdout)\n",
    "    stream_handler.setLevel(logging.INFO)\n",
    "    stream_handler.setFormatter(jupyter_formatter)\n",
    "\n",
    "    # Configure root logger\n",
    "    logger.setLevel(logging.DEBUG)\n",
    "    logger.addHandler(file_handler)\n",
    "    logger.addHandler(jupyter_handler)\n",
    "    # logger.addHandler(stream_handler)\n",
    "\n",
    "# Initialize logging\n",
    "setup_logging()\n",
    "\n",
    "# Example log messages\n",
    "logger = logging.getLogger()\n",
    "logger.info(\"This is an info message displayed in the notebook.\")\n",
    "logger.warning(\"This is a warning message shown in the notebook and saved to file.\")\n",
    "logger.error(\"This error message will be logged both in the notebook and in the log file.\")\n"
   ]
  },
  {
   "cell_type": "code",
   "execution_count": 11,
   "id": "6d6c0574-af9f-4c23-a05e-04561c09e745",
   "metadata": {},
   "outputs": [
    {
     "data": {
      "text/plain": [
       "PosixPath('/home/fuzzy/Documents/GitHub/peroxide')"
      ]
     },
     "execution_count": 11,
     "metadata": {},
     "output_type": "execute_result"
    }
   ],
   "source": [
    "from pathlib import Path\n",
    "Path.cwd()"
   ]
  },
  {
   "cell_type": "code",
   "execution_count": 13,
   "id": "b2a714d0-c443-4ea1-9d53-bfcef0e652bd",
   "metadata": {},
   "outputs": [
    {
     "data": {
      "text/plain": [
       "2025-01-24 00:13:00,347 - INFO - logging..."
      ]
     },
     "metadata": {},
     "output_type": "display_data"
    }
   ],
   "source": [
    "logger.info(\"logging...\")"
   ]
  },
  {
   "cell_type": "code",
   "execution_count": 2,
   "id": "68ceddd8-521d-40b5-8553-f37992fa729c",
   "metadata": {},
   "outputs": [],
   "source": [
    "import sys"
   ]
  },
  {
   "cell_type": "code",
   "execution_count": 3,
   "id": "4a789beb-238c-4536-9830-e72c8bec0053",
   "metadata": {},
   "outputs": [
    {
     "data": {
      "text/plain": [
       "'/home/fuzzy/Python-3.12.8/lib/python3.12/site-packages/ipykernel_launcher.py'"
      ]
     },
     "execution_count": 3,
     "metadata": {},
     "output_type": "execute_result"
    }
   ],
   "source": [
    "sys.argv[0]"
   ]
  },
  {
   "cell_type": "code",
   "execution_count": 4,
   "id": "bd8f7d97-2655-4e3c-9112-9bcd0efc34db",
   "metadata": {},
   "outputs": [],
   "source": [
    "from pprint import pprint as pp"
   ]
  },
  {
   "cell_type": "code",
   "execution_count": 5,
   "id": "c6daa220-0d95-4afe-b078-23f7c937f991",
   "metadata": {},
   "outputs": [
    {
     "name": "stdout",
     "output_type": "stream",
     "text": [
      "['/home/fuzzy/Python-3.12.8/lib/python3.12/site-packages/ipykernel_launcher.py',\n",
      " '-f',\n",
      " '/home/fuzzy/.local/share/jupyter/runtime/kernel-5861bb6b-4fd5-4729-a915-5f7dabbb5c67.json']\n"
     ]
    }
   ],
   "source": [
    "pp(sys.argv)"
   ]
  },
  {
   "cell_type": "code",
   "execution_count": 7,
   "id": "bcb376f5-68f5-4f47-9a4f-944b9c3fa411",
   "metadata": {},
   "outputs": [
    {
     "data": {
      "text/plain": [
       "'/home/fuzzy/Python-3.12.8/bin/python3.12'"
      ]
     },
     "execution_count": 7,
     "metadata": {},
     "output_type": "execute_result"
    }
   ],
   "source": [
    "sys.executable"
   ]
  },
  {
   "cell_type": "code",
   "execution_count": null,
   "id": "b61de9b1-bef3-4136-a2e7-4419530681f7",
   "metadata": {},
   "outputs": [],
   "source": []
  }
 ],
 "metadata": {
  "kernelspec": {
   "display_name": "Python 3 (ipykernel)",
   "language": "python",
   "name": "python3"
  },
  "language_info": {
   "codemirror_mode": {
    "name": "ipython",
    "version": 3
   },
   "file_extension": ".py",
   "mimetype": "text/x-python",
   "name": "python",
   "nbconvert_exporter": "python",
   "pygments_lexer": "ipython3",
   "version": "3.12.8"
  }
 },
 "nbformat": 4,
 "nbformat_minor": 5
}
