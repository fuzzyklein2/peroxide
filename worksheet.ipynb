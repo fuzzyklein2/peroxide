{
 "cells": [
  {
   "cell_type": "code",
   "execution_count": 1,
   "id": "3486ab75-abc5-4c71-9809-52a3f19e5388",
   "metadata": {},
   "outputs": [],
   "source": [
    "from pprint import pprint as pp\n",
    "import subprocess"
   ]
  },
  {
   "cell_type": "code",
   "execution_count": 2,
   "id": "a2325751-e5d2-4baf-a90e-9fd792ec1124",
   "metadata": {},
   "outputs": [],
   "source": [
    "from bs4 import BeautifulSoup as BS\n",
    "import magic"
   ]
  },
  {
   "cell_type": "code",
   "execution_count": 3,
   "id": "7520e610-1760-4610-890b-5854abaf4153",
   "metadata": {},
   "outputs": [],
   "source": [
    "GRAPHIC_FILE_EXTS = ['jpg', 'jpeg', 'png', 'gif', 'bmp', 'tiff', 'tif', 'webp', 'svg']"
   ]
  },
  {
   "cell_type": "code",
   "execution_count": 4,
   "id": "18ac9c6b-74d9-41b9-8fc2-246ea8a40f6b",
   "metadata": {},
   "outputs": [],
   "source": [
    "import os\n",
    "os.environ['CMD_LINE'] = \"'SOLO/songs/Call Me The Breeze/Patterns/Pattern 1.h2pattern'\""
   ]
  },
  {
   "cell_type": "code",
   "execution_count": 5,
   "id": "10abc744-9161-496c-a03c-5d994adbc1b3",
   "metadata": {},
   "outputs": [
    {
     "name": "stderr",
     "output_type": "stream",
     "text": [
      "2025-02-23 12:10:49,394 - INFO - Logging configuration complete.\n",
      "2025-02-23 12:10:49,395 - WARNING - /home/fuzzy/Documents/GitHub/peroxide-0.0.0/peroxide/__init__.py:146: UserWarning: This program is still in development. Beware of bugs!\n",
      "  warnings.warn(\"This program is still in development. Beware of bugs!\")\n",
      "\n",
      "2025-02-23 12:10:49,396 - INFO - CONFIG=PosixPath('/home/fuzzy/Documents/GitHub/peroxide-0.0.0/etc/config.ini')\n",
      "2025-02-23 12:10:49,398 - INFO - INPUT=''\n",
      "2025-02-23 12:10:49,399 - INFO - FOLLOW=False\n",
      "RECURSIVE=False\n",
      "PROCESS_ALL=False\n",
      "2025-02-23 12:10:49,400 - INFO - CWD=PosixPath('/home/fuzzy/Documents/GitHub/peroxide-0.0.0')\n",
      "2025-02-23 12:10:49,402 - INFO - ARGS=Namespace(args=['SOLO/songs/Call Me The Breeze/Patterns/Pattern 1.h2pattern'], debug=False, verbose=False, recursive=False, testing=False, follow=False, all=False, config=None, input=None, output=None, quiet=False, log=None, warnings=None, f=None)\n"
     ]
    },
    {
     "name": "stdout",
     "output_type": "stream",
     "text": [
      "Initializing peroxide\n"
     ]
    }
   ],
   "source": [
    "from peroxide.startup import *"
   ]
  },
  {
   "cell_type": "code",
   "execution_count": 6,
   "id": "b1794872-fa76-44f2-842a-1247fde2d7b4",
   "metadata": {},
   "outputs": [
    {
     "data": {
      "text/plain": [
       "'.txt'"
      ]
     },
     "execution_count": 6,
     "metadata": {},
     "output_type": "execute_result"
    }
   ],
   "source": [
    "Path('input.txt').suffix"
   ]
  },
  {
   "cell_type": "code",
   "execution_count": 7,
   "id": "4cd86404-0b08-4990-ad54-92016a9b75aa",
   "metadata": {},
   "outputs": [],
   "source": [
    "from peroxide.tools import *"
   ]
  },
  {
   "cell_type": "code",
   "execution_count": 8,
   "id": "fbd1bc74-5bb9-4230-af6d-fa6ce55f3c21",
   "metadata": {},
   "outputs": [
    {
     "name": "stdout",
     "output_type": "stream",
     "text": [
      "absolute    group            is_socket   parser       samefile       write_bytes\n",
      "anchor      hardlink_to      is_symlink  parts        stat           write_text \n",
      "as_posix    home             iterdir     read_bytes   stem         \n",
      "as_uri      is_absolute      joinpath    read_text    suffix       \n",
      "chmod       is_block_device  lchmod      readlines    suffixes     \n",
      "cwd         is_char_device   lstat       readlink     symlink_to   \n",
      "drive       is_dir           match       relative_to  touch        \n",
      "exists      is_fifo          mkdir       rename       unlink       \n",
      "expanduser  is_file          name        replace      walk         \n",
      "ext         is_junction      open        resolve      with_name    \n",
      "from_uri    is_mount         owner       rglob        with_segments\n",
      "full_match  is_relative_to   parent      rmdir        with_stem    \n",
      "glob        is_reserved      parents     root         with_suffix  \n"
     ]
    }
   ],
   "source": [
    "public(Path)"
   ]
  },
  {
   "cell_type": "code",
   "execution_count": 9,
   "id": "80aa2667-d912-4d67-b6bd-e4e84785238d",
   "metadata": {},
   "outputs": [
    {
     "data": {
      "text/plain": [
       "PosixPath('/home/fuzzy/Documents/GitHub/peroxide-0.0.0')"
      ]
     },
     "execution_count": 9,
     "metadata": {},
     "output_type": "execute_result"
    }
   ],
   "source": [
    "Path.cwd()"
   ]
  },
  {
   "cell_type": "code",
   "execution_count": 10,
   "id": "e8dbf270-f9ce-4c6c-aa98-fe4ada39ccc7",
   "metadata": {},
   "outputs": [],
   "source": [
    "GM_ROCK_KIT_FILE = Path('data/GMRockKit Instrument Names.txt')\n",
    "ROCK_DRUM_KIT_FILE = Path('data/Rock Drum Kit Instrument Names.txt')"
   ]
  },
  {
   "cell_type": "code",
   "execution_count": 11,
   "id": "735e8acb-3447-4f35-96fa-4156b538b228",
   "metadata": {},
   "outputs": [],
   "source": [
    "GM_ROCK_KIT = GM_ROCK_KIT_FILE.readlines()\n",
    "ROCK_DRUM_KIT = ROCK_DRUM_KIT_FILE.readlines()"
   ]
  },
  {
   "cell_type": "code",
   "execution_count": 12,
   "id": "ee30d387-a249-4137-9965-4a668d9ebde8",
   "metadata": {},
   "outputs": [
    {
     "name": "stdout",
     "output_type": "stream",
     "text": [
      "Sabian Hat Closed      Sabian Crash Flink   tomhi3           Maraca      \n",
      "Sabian Hat Pedal       Paiste Ride          tomhi4           Hand Clap   \n",
      "Sabian Hat Semi-Open   Paiste Ride Flink    Tom Mid          Finger Snaps\n",
      "Sabian Hat Open        Paiste Bell          Tom Low          Bongo Hi    \n",
      "Sabian Hat Swish       Snare1               Pearl Tom 1      Bongo Lo    \n",
      "Sabian Hat Choke       Snare Rock           Pearl Tom 2      Tambourine  \n",
      "Zildjian Splash        Pearl Snare          Pearl Tom Floor  Cowbell     \n",
      "Sabian Crash           Pearl Snare Rimshot  BassDrum         Clave       \n",
      "Crash                  Pearl Side Stick     Pearl Kick       Woodblock Hi\n",
      "Zildjian Splash Choke  Tom Hi               Cajon Thump      Woodblock Lo\n",
      "Ride 2                 tomhi2               Cajon Slap       WaterglassHi\n"
     ]
    }
   ],
   "source": [
    "columnize(ROCK_DRUM_KIT)"
   ]
  },
  {
   "cell_type": "code",
   "execution_count": 13,
   "id": "c4fee63d-f5f2-4026-935c-5a5ce0374a70",
   "metadata": {},
   "outputs": [],
   "source": [
    "INDEXED_ROCK_DRUM_KIT = list()"
   ]
  },
  {
   "cell_type": "code",
   "execution_count": 14,
   "id": "b3d346c2-1251-4e17-a814-2d6e8b4f5307",
   "metadata": {},
   "outputs": [],
   "source": [
    "for i, s in enumerate(ROCK_DRUM_KIT):\n",
    "    INDEXED_ROCK_DRUM_KIT.append(f'{i} - {s}')"
   ]
  },
  {
   "cell_type": "code",
   "execution_count": 15,
   "id": "73d2d8d7-d27e-4083-a29c-eb35f8a40bf6",
   "metadata": {},
   "outputs": [
    {
     "name": "stdout",
     "output_type": "stream",
     "text": [
      "0 - Sabian Hat Closed      15 - Snare1               30 - Pearl Kick  \n",
      "1 - Sabian Hat Pedal       16 - Snare Rock           31 - Cajon Thump \n",
      "2 - Sabian Hat Semi-Open   17 - Pearl Snare          32 - Cajon Slap  \n",
      "3 - Sabian Hat Open        18 - Pearl Snare Rimshot  33 - Maraca      \n",
      "4 - Sabian Hat Swish       19 - Pearl Side Stick     34 - Hand Clap   \n",
      "5 - Sabian Hat Choke       20 - Tom Hi               35 - Finger Snaps\n",
      "6 - Zildjian Splash        21 - tomhi2               36 - Bongo Hi    \n",
      "7 - Sabian Crash           22 - tomhi3               37 - Bongo Lo    \n",
      "8 - Crash                  23 - tomhi4               38 - Tambourine  \n",
      "9 - Zildjian Splash Choke  24 - Tom Mid              39 - Cowbell     \n",
      "10 - Ride 2                25 - Tom Low              40 - Clave       \n",
      "11 - Sabian Crash Flink    26 - Pearl Tom 1          41 - Woodblock Hi\n",
      "12 - Paiste Ride           27 - Pearl Tom 2          42 - Woodblock Lo\n",
      "13 - Paiste Ride Flink     28 - Pearl Tom Floor      43 - WaterglassHi\n",
      "14 - Paiste Bell           29 - BassDrum           \n"
     ]
    }
   ],
   "source": [
    "columnize(INDEXED_ROCK_DRUM_KIT)"
   ]
  },
  {
   "cell_type": "code",
   "execution_count": 16,
   "id": "d7593b36-42ee-4ec1-89a1-2f9eb28b39e5",
   "metadata": {},
   "outputs": [
    {
     "name": "stdout",
     "output_type": "stream",
     "text": [
      "Kick   Hand Clap      Hat Closed  Tom 1     Ride    Splash       \n",
      "Stick  Snare Rimshot  Tom 2       Hat Open  Crash   Hat Semi-Open\n",
      "Snare  Floor Tom      Hat Pedal   Cowbell   Ride 2  Bell         \n"
     ]
    }
   ],
   "source": [
    "columnize(GM_ROCK_KIT)"
   ]
  },
  {
   "cell_type": "code",
   "execution_count": 17,
   "id": "d8ce4d73-d7fa-4405-b214-8e6cb2338f58",
   "metadata": {},
   "outputs": [],
   "source": [
    "DRUM_MAPPING = dict()"
   ]
  },
  {
   "cell_type": "code",
   "execution_count": 18,
   "id": "c6eb5810-66e8-459c-a8f9-a4f89dbdbd70",
   "metadata": {},
   "outputs": [],
   "source": [
    "for s in GM_ROCK_KIT:\n",
    "    DRUM_MAPPING[s] = ''"
   ]
  },
  {
   "cell_type": "code",
   "execution_count": 19,
   "id": "83679cf8-63ce-4e45-af66-6b04907649d8",
   "metadata": {},
   "outputs": [],
   "source": [
    "DRUM_MAPPING['Kick'] = [29, 30, 31]\n",
    "DRUM_MAPPING['Stick'] = [19]\n",
    "DRUM_MAPPING['Snare'] = [15, 16, 17, 32]\n",
    "DRUM_MAPPING['Hand Clap'] = [34, 35]\n",
    "DRUM_MAPPING['Snare Rimshot'] = [18]\n",
    "DRUM_MAPPING['Floor Tom'] = [25, 28]\n",
    "DRUM_MAPPING['Hat Closed'] = [0]\n",
    "DRUM_MAPPING['Tom 2'] = [24, 27]\n",
    "DRUM_MAPPING['Hat Pedal'] = [1]\n",
    "DRUM_MAPPING['Tom 1'] = [20, 26]\n",
    "DRUM_MAPPING['Hat Open'] = [3]\n",
    "DRUM_MAPPING['Cowbell'] = [39]\n",
    "DRUM_MAPPING['Ride'] = [10, 12]\n",
    "DRUM_MAPPING['Crash'] = [7,8]\n",
    "DRUM_MAPPING['Ride 2'] = [13]\n",
    "DRUM_MAPPING['Splash'] = [6]\n",
    "DRUM_MAPPING['Hat Semi-Open'] = [2]\n",
    "DRUM_MAPPING['Bell'] = [14]"
   ]
  },
  {
   "cell_type": "code",
   "execution_count": 20,
   "id": "065113cb-70e2-4ac8-af3d-f9cf301c4c33",
   "metadata": {},
   "outputs": [
    {
     "name": "stdout",
     "output_type": "stream",
     "text": [
      "{'Bell': [15],\n",
      " 'Cowbell': [40],\n",
      " 'Crash': [7, 8],\n",
      " 'Floor Tom': [26, 29],\n",
      " 'Hand Clap': [35, 36],\n",
      " 'Hat Closed': [0],\n",
      " 'Hat Open': [3],\n",
      " 'Hat Pedal': [1],\n",
      " 'Hat Semi-Open': [2],\n",
      " 'Kick': [30, 31, 32],\n",
      " 'Ride': [10, 13],\n",
      " 'Ride 2': [14],\n",
      " 'Snare': [16, 17, 18, 33],\n",
      " 'Snare Rimshot': [19],\n",
      " 'Splash': [6],\n",
      " 'Stick': [20],\n",
      " 'Tom 1': [21, 27],\n",
      " 'Tom 2': [25, 28]}\n"
     ]
    }
   ],
   "source": [
    "for k, v in DRUM_MAPPING.items():\n",
    "    for i, n in enumerate(v):\n",
    "        if n >= 12:\n",
    "            v[i] = n + 1\n",
    "pp(DRUM_MAPPING)"
   ]
  },
  {
   "cell_type": "code",
   "execution_count": 21,
   "id": "d23d9003-5771-4da9-900b-96d60ff3ffda",
   "metadata": {},
   "outputs": [
    {
     "data": {
      "text/plain": [
       "18"
      ]
     },
     "execution_count": 21,
     "metadata": {},
     "output_type": "execute_result"
    }
   ],
   "source": [
    "len(DRUM_MAPPING)"
   ]
  },
  {
   "cell_type": "code",
   "execution_count": 22,
   "id": "6377220d-2498-4977-ab6a-e5b5b700c985",
   "metadata": {},
   "outputs": [],
   "source": [
    "import lxml"
   ]
  },
  {
   "cell_type": "code",
   "execution_count": 23,
   "id": "6c1d8765-833e-4594-959f-2971cc574b98",
   "metadata": {},
   "outputs": [
    {
     "name": "stderr",
     "output_type": "stream",
     "text": [
      "2025-02-23 12:10:49,662 - WARNING - /tmp/ipykernel_105672/3885173783.py:1: XMLParsedAsHTMLWarning: It looks like you're using an HTML parser to parse an XML document.\n",
      "\n",
      "Assuming this really is an XML document, what you're doing might work, but you should know that using an XML parser will be more reliable. To parse this document as XML, make sure you have the Python package 'lxml' installed, and pass the keyword argument `features=\"xml\"` into the BeautifulSoup constructor.\n",
      "\n",
      "If you want or need to use an HTML parser on this document, you can make this warning go away by filtering it. To do that, run this code before calling the BeautifulSoup constructor:\n",
      "\n",
      "    from bs4 import XMLParsedAsHTMLWarning\n",
      "    import warnings\n",
      "\n",
      "    warnings.filterwarnings(\"ignore\", category=XMLParsedAsHTMLWarning)\n",
      "\n",
      "  soup = BS((Path.home() / 'SOLO/songs/Call Me The Breeze/Patterns/Pattern 1.h2pattern').read_text())\n",
      "\n"
     ]
    }
   ],
   "source": [
    "soup = BS((Path.home() / 'SOLO/songs/Call Me The Breeze/Patterns/Pattern 1.h2pattern').read_text())"
   ]
  },
  {
   "cell_type": "code",
   "execution_count": 24,
   "id": "28680783-0c4a-4309-96a4-befdf1ac8206",
   "metadata": {},
   "outputs": [],
   "source": [
    "from lxml import etree\n",
    "tree = etree.parse(\"/home/fuzzy/SOLO/songs/Call Me The Breeze/Patterns/Pattern 1.h2pattern\")"
   ]
  },
  {
   "cell_type": "code",
   "execution_count": 25,
   "id": "db0ddda1-e555-4515-a132-b811f832bd86",
   "metadata": {},
   "outputs": [
    {
     "name": "stdout",
     "output_type": "stream",
     "text": [
      "docinfo  findtext        getpath  iterfind  relaxng     xinclude   xslt\n",
      "find     getelementpath  getroot  parse     write       xmlschema\n",
      "findall  getiterator     iter     parser    write_c14n  xpath    \n"
     ]
    }
   ],
   "source": [
    "public(tree)"
   ]
  },
  {
   "cell_type": "code",
   "execution_count": 26,
   "id": "1ddcd122-9b4a-4790-ba5e-97836a72cf14",
   "metadata": {
    "scrolled": true
   },
   "outputs": [
    {
     "name": "stdout",
     "output_type": "stream",
     "text": [
      "<?xml version=\"1.0\" encoding=\"UTF-8\"?>\n",
      "<html>\n",
      " <body>\n",
      "  <drumkit_pattern xmlns=\"http://www.hydrogen-music.org/drumkit_pattern\" xmlns:xsi=\"http://www.w3.org/2001/XMLSchema-instance\">\n",
      "   <drumkit_name>\n",
      "    GMRockKit\n",
      "   </drumkit_name>\n",
      "   <author>\n",
      "    hydrogen\n",
      "   </author>\n",
      "   <license>\n",
      "    undefined license\n",
      "   </license>\n",
      "   <pattern>\n",
      "    <name>\n",
      "     Pattern 1\n",
      "    </name>\n",
      "    <info>\n",
      "    </info>\n",
      "    <category>\n",
      "     not_categorized\n",
      "    </category>\n",
      "    <size>\n",
      "     192\n",
      "    </size>\n",
      "    <denominator>\n",
      "     8\n",
      "    </denominator>\n",
      "    <notelist>\n",
      "     <note>\n",
      "      <position>\n",
      "       0\n",
      "      </position>\n",
      "      <leadlag>\n",
      "       0\n",
      "      </leadlag>\n",
      "      <velocity>\n",
      "       0.8\n",
      "      </velocity>\n",
      "      <pan>\n",
      "       0\n",
      "      </pan>\n",
      "      <pitch>\n",
      "       0\n",
      "      </pitch>\n",
      "      <key>\n",
      "       C0\n",
      "      </key>\n",
      "      <length>\n",
      "       -1\n",
      "      </length>\n",
      "      <instrument>\n",
      "       0\n",
      "      </instrument>\n",
      "      <note_off>\n",
      "       false\n",
      "      </note_off>\n",
      "      <probability>\n",
      "       1\n",
      "      </probability>\n",
      "     </note>\n",
      "     <note>\n",
      "      <position>\n",
      "       0\n",
      "      </position>\n",
      "      <leadlag>\n",
      "       0\n",
      "      </leadlag>\n",
      "      <velocity>\n",
      "       0.8\n",
      "      </velocity>\n",
      "      <pan>\n",
      "       0\n",
      "      </pan>\n",
      "      <pitch>\n",
      "       0\n",
      "      </pitch>\n",
      "      <key>\n",
      "       C0\n",
      "      </key>\n",
      "      <length>\n",
      "       -1\n",
      "      </length>\n",
      "      <instrument>\n",
      "       6\n",
      "      </instrument>\n",
      "      <note_off>\n",
      "       false\n",
      "      </note_off>\n",
      "      <probability>\n",
      "       1\n",
      "      </probability>\n",
      "     </note>\n",
      "     <note>\n",
      "      <position>\n",
      "       48\n",
      "      </position>\n",
      "      <leadlag>\n",
      "       0\n",
      "      </leadlag>\n",
      "      <velocity>\n",
      "       0.8\n",
      "      </velocity>\n",
      "      <pan>\n",
      "       0\n",
      "      </pan>\n",
      "      <pitch>\n",
      "       0\n",
      "      </pitch>\n",
      "      <key>\n",
      "       C0\n",
      "      </key>\n",
      "      <length>\n",
      "       -1\n",
      "      </length>\n",
      "      <instrument>\n",
      "       2\n",
      "      </instrument>\n",
      "      <note_off>\n",
      "       false\n",
      "      </note_off>\n",
      "      <probability>\n",
      "       1\n",
      "      </probability>\n",
      "     </note>\n",
      "     <note>\n",
      "      <position>\n",
      "       48\n",
      "      </position>\n",
      "      <leadlag>\n",
      "       0\n",
      "      </leadlag>\n",
      "      <velocity>\n",
      "       0.8\n",
      "      </velocity>\n",
      "      <pan>\n",
      "       0\n",
      "      </pan>\n",
      "      <pitch>\n",
      "       0\n",
      "      </pitch>\n",
      "      <key>\n",
      "       C0\n",
      "      </key>\n",
      "      <length>\n",
      "       -1\n",
      "      </length>\n",
      "      <instrument>\n",
      "       6\n",
      "      </instrument>\n",
      "      <note_off>\n",
      "       false\n",
      "      </note_off>\n",
      "      <probability>\n",
      "       1\n",
      "      </probability>\n",
      "     </note>\n",
      "     <note>\n",
      "      <position>\n",
      "       96\n",
      "      </position>\n",
      "      <leadlag>\n",
      "       0\n",
      "      </leadlag>\n",
      "      <velocity>\n",
      "       0.8\n",
      "      </velocity>\n",
      "      <pan>\n",
      "       0\n",
      "      </pan>\n",
      "      <pitch>\n",
      "       0\n",
      "      </pitch>\n",
      "      <key>\n",
      "       C0\n",
      "      </key>\n",
      "      <length>\n",
      "       -1\n",
      "      </length>\n",
      "      <instrument>\n",
      "       0\n",
      "      </instrument>\n",
      "      <note_off>\n",
      "       false\n",
      "      </note_off>\n",
      "      <probability>\n",
      "       1\n",
      "      </probability>\n",
      "     </note>\n",
      "     <note>\n",
      "      <position>\n",
      "       96\n",
      "      </position>\n",
      "      <leadlag>\n",
      "       0\n",
      "      </leadlag>\n",
      "      <velocity>\n",
      "       0.8\n",
      "      </velocity>\n",
      "      <pan>\n",
      "       0\n",
      "      </pan>\n",
      "      <pitch>\n",
      "       0\n",
      "      </pitch>\n",
      "      <key>\n",
      "       C0\n",
      "      </key>\n",
      "      <length>\n",
      "       -1\n",
      "      </length>\n",
      "      <instrument>\n",
      "       6\n",
      "      </instrument>\n",
      "      <note_off>\n",
      "       false\n",
      "      </note_off>\n",
      "      <probability>\n",
      "       1\n",
      "      </probability>\n",
      "     </note>\n",
      "     <note>\n",
      "      <position>\n",
      "       128\n",
      "      </position>\n",
      "      <leadlag>\n",
      "       0\n",
      "      </leadlag>\n",
      "      <velocity>\n",
      "       0.8\n",
      "      </velocity>\n",
      "      <pan>\n",
      "       0\n",
      "      </pan>\n",
      "      <pitch>\n",
      "       0\n",
      "      </pitch>\n",
      "      <key>\n",
      "       C0\n",
      "      </key>\n",
      "      <length>\n",
      "       -1\n",
      "      </length>\n",
      "      <instrument>\n",
      "       0\n",
      "      </instrument>\n",
      "      <note_off>\n",
      "       false\n",
      "      </note_off>\n",
      "      <probability>\n",
      "       1\n",
      "      </probability>\n",
      "     </note>\n",
      "     <note>\n",
      "      <position>\n",
      "       144\n",
      "      </position>\n",
      "      <leadlag>\n",
      "       0\n",
      "      </leadlag>\n",
      "      <velocity>\n",
      "       0.8\n",
      "      </velocity>\n",
      "      <pan>\n",
      "       0\n",
      "      </pan>\n",
      "      <pitch>\n",
      "       0\n",
      "      </pitch>\n",
      "      <key>\n",
      "       C0\n",
      "      </key>\n",
      "      <length>\n",
      "       -1\n",
      "      </length>\n",
      "      <instrument>\n",
      "       2\n",
      "      </instrument>\n",
      "      <note_off>\n",
      "       false\n",
      "      </note_off>\n",
      "      <probability>\n",
      "       1\n",
      "      </probability>\n",
      "     </note>\n",
      "     <note>\n",
      "      <position>\n",
      "       144\n",
      "      </position>\n",
      "      <leadlag>\n",
      "       0\n",
      "      </leadlag>\n",
      "      <velocity>\n",
      "       0.8\n",
      "      </velocity>\n",
      "      <pan>\n",
      "       0\n",
      "      </pan>\n",
      "      <pitch>\n",
      "       0\n",
      "      </pitch>\n",
      "      <key>\n",
      "       C0\n",
      "      </key>\n",
      "      <length>\n",
      "       -1\n",
      "      </length>\n",
      "      <instrument>\n",
      "       6\n",
      "      </instrument>\n",
      "      <note_off>\n",
      "       false\n",
      "      </note_off>\n",
      "      <probability>\n",
      "       1\n",
      "      </probability>\n",
      "     </note>\n",
      "    </notelist>\n",
      "   </pattern>\n",
      "  </drumkit_pattern>\n",
      " </body>\n",
      "</html>\n",
      "\n"
     ]
    }
   ],
   "source": [
    "print(soup.prettify())"
   ]
  },
  {
   "cell_type": "code",
   "execution_count": 27,
   "id": "08f885c3-470c-4c6d-8ffc-8a758e98b6f9",
   "metadata": {
    "scrolled": true
   },
   "outputs": [
    {
     "data": {
      "text/plain": [
       "[<position>0</position>,\n",
       " <position>0</position>,\n",
       " <position>48</position>,\n",
       " <position>48</position>,\n",
       " <position>96</position>,\n",
       " <position>96</position>,\n",
       " <position>128</position>,\n",
       " <position>144</position>,\n",
       " <position>144</position>]"
      ]
     },
     "execution_count": 27,
     "metadata": {},
     "output_type": "execute_result"
    }
   ],
   "source": [
    "soup.find_all('position')"
   ]
  },
  {
   "cell_type": "code",
   "execution_count": 28,
   "id": "fad5eb50-92ad-4803-84fb-78f5238fd622",
   "metadata": {},
   "outputs": [],
   "source": [
    "from lxml import etree\n",
    "\n",
    "# Parse the drumkit.xml file\n",
    "tree = etree.parse('data/Rock_Drum_Set/drumkit.xml')\n",
    "root = tree.getroot()\n"
   ]
  },
  {
   "cell_type": "code",
   "execution_count": 29,
   "id": "2071bf8a-66d4-4c83-b0b8-cf6e059740b7",
   "metadata": {
    "scrolled": true
   },
   "outputs": [
    {
     "name": "stdout",
     "output_type": "stream",
     "text": [
      "ID: 0, Name: Sabian Hat Closed\n",
      "ID: 1, Name: Sabian Hat Pedal\n",
      "ID: 2, Name: Sabian Hat Semi-Open\n",
      "ID: 3, Name: Sabian Hat Open\n",
      "ID: 4, Name: Sabian Hat Swish\n",
      "ID: 5, Name: Sabian Hat Choke\n",
      "ID: 6, Name: Zildjian Splash\n",
      "ID: 7, Name: Sabian Crash\n",
      "ID: 8, Name: Crash\n",
      "ID: 9, Name: Zildjian Splash Choke\n",
      "ID: 10, Name: Ride 2\n",
      "ID: 11, Name: Sabian Crash Flink\n",
      "ID: 13, Name: Paiste Ride\n",
      "ID: 14, Name: Paiste Ride Flink\n",
      "ID: 15, Name: Paiste Bell\n",
      "ID: 16, Name: Snare1\n",
      "ID: 17, Name: Snare Rock\n",
      "ID: 18, Name: Pearl Snare\n",
      "ID: 19, Name: Pearl Snare Rimshot\n",
      "ID: 20, Name: Pearl Side Stick\n",
      "ID: 21, Name: Tom Hi\n",
      "ID: 22, Name: tomhi2\n",
      "ID: 23, Name: tomhi3\n",
      "ID: 24, Name: tomhi4\n",
      "ID: 25, Name: Tom Mid\n",
      "ID: 26, Name: Tom Low\n",
      "ID: 27, Name: Pearl Tom 1\n",
      "ID: 28, Name: Pearl Tom 2\n",
      "ID: 29, Name: Pearl Tom Floor\n",
      "ID: 30, Name: BassDrum\n",
      "ID: 31, Name: Pearl Kick\n",
      "ID: 32, Name: Cajon Thump\n",
      "ID: 33, Name: Cajon Slap\n",
      "ID: 34, Name: Maraca\n",
      "ID: 35, Name: Hand Clap\n",
      "ID: 36, Name: Finger Snaps\n",
      "ID: 37, Name: Bongo Hi\n",
      "ID: 38, Name: Bongo Lo\n",
      "ID: 39, Name: Tambourine\n",
      "ID: 40, Name: Cowbell\n",
      "ID: 41, Name: Clave\n",
      "ID: 42, Name: Woodblock Hi\n",
      "ID: 43, Name: Woodblock Lo\n",
      "ID: 44, Name: WaterglassHi\n"
     ]
    }
   ],
   "source": [
    "# Strip the default namespace from the XML\n",
    "for elem in root.iter():\n",
    "    # Remove the namespace from the tag names\n",
    "    elem.tag = etree.QName(elem).localname\n",
    "\n",
    "# Now, we can use XPath without worrying about the namespace\n",
    "for instrument in root.xpath('//instrument'):\n",
    "    instrument_id = instrument.find('id').text\n",
    "    instrument_name = instrument.find('name').text\n",
    "    print(f\"ID: {instrument_id}, Name: {instrument_name}\")\n"
   ]
  },
  {
   "cell_type": "code",
   "execution_count": 30,
   "id": "ed020d27-6034-4dcf-bdee-f8722a808750",
   "metadata": {
    "scrolled": true
   },
   "outputs": [
    {
     "name": "stdout",
     "output_type": "stream",
     "text": [
      "ID: 0, Name: Sabian Hat Closed\n",
      "ID: 1, Name: Sabian Hat Pedal\n",
      "ID: 2, Name: Sabian Hat Semi-Open\n",
      "ID: 3, Name: Sabian Hat Open\n",
      "ID: 4, Name: Sabian Hat Swish\n",
      "ID: 5, Name: Sabian Hat Choke\n",
      "ID: 6, Name: Zildjian Splash\n",
      "ID: 7, Name: Sabian Crash\n",
      "ID: 8, Name: Crash\n",
      "ID: 9, Name: Zildjian Splash Choke\n",
      "ID: 10, Name: Ride 2\n",
      "ID: 11, Name: Sabian Crash Flink\n",
      "ID: 13, Name: Paiste Ride\n",
      "LOOK OUT!!!!! :O\n",
      "ID: 14, Name: Paiste Ride Flink\n",
      "LOOK OUT!!!!! :O\n",
      "ID: 15, Name: Paiste Bell\n",
      "LOOK OUT!!!!! :O\n",
      "ID: 16, Name: Snare1\n",
      "LOOK OUT!!!!! :O\n",
      "ID: 17, Name: Snare Rock\n",
      "LOOK OUT!!!!! :O\n",
      "ID: 18, Name: Pearl Snare\n",
      "LOOK OUT!!!!! :O\n",
      "ID: 19, Name: Pearl Snare Rimshot\n",
      "LOOK OUT!!!!! :O\n",
      "ID: 20, Name: Pearl Side Stick\n",
      "LOOK OUT!!!!! :O\n",
      "ID: 21, Name: Tom Hi\n",
      "LOOK OUT!!!!! :O\n",
      "ID: 22, Name: tomhi2\n",
      "LOOK OUT!!!!! :O\n",
      "ID: 23, Name: tomhi3\n",
      "LOOK OUT!!!!! :O\n",
      "ID: 24, Name: tomhi4\n",
      "LOOK OUT!!!!! :O\n",
      "ID: 25, Name: Tom Mid\n",
      "LOOK OUT!!!!! :O\n",
      "ID: 26, Name: Tom Low\n",
      "LOOK OUT!!!!! :O\n",
      "ID: 27, Name: Pearl Tom 1\n",
      "LOOK OUT!!!!! :O\n",
      "ID: 28, Name: Pearl Tom 2\n",
      "LOOK OUT!!!!! :O\n",
      "ID: 29, Name: Pearl Tom Floor\n",
      "LOOK OUT!!!!! :O\n",
      "ID: 30, Name: BassDrum\n",
      "LOOK OUT!!!!! :O\n",
      "ID: 31, Name: Pearl Kick\n",
      "LOOK OUT!!!!! :O\n",
      "ID: 32, Name: Cajon Thump\n",
      "LOOK OUT!!!!! :O\n",
      "ID: 33, Name: Cajon Slap\n",
      "LOOK OUT!!!!! :O\n",
      "ID: 34, Name: Maraca\n",
      "LOOK OUT!!!!! :O\n",
      "ID: 35, Name: Hand Clap\n",
      "LOOK OUT!!!!! :O\n",
      "ID: 36, Name: Finger Snaps\n",
      "LOOK OUT!!!!! :O\n",
      "ID: 37, Name: Bongo Hi\n",
      "LOOK OUT!!!!! :O\n",
      "ID: 38, Name: Bongo Lo\n",
      "LOOK OUT!!!!! :O\n",
      "ID: 39, Name: Tambourine\n",
      "LOOK OUT!!!!! :O\n",
      "ID: 40, Name: Cowbell\n",
      "LOOK OUT!!!!! :O\n",
      "ID: 41, Name: Clave\n",
      "LOOK OUT!!!!! :O\n",
      "ID: 42, Name: Woodblock Hi\n",
      "LOOK OUT!!!!! :O\n",
      "ID: 43, Name: Woodblock Lo\n",
      "LOOK OUT!!!!! :O\n",
      "ID: 44, Name: WaterglassHi\n"
     ]
    },
    {
     "ename": "IndexError",
     "evalue": "list index out of range",
     "output_type": "error",
     "traceback": [
      "\u001b[0;31m---------------------------------------------------------------------------\u001b[0m",
      "\u001b[0;31mIndexError\u001b[0m                                Traceback (most recent call last)",
      "Cell \u001b[0;32mIn[30], line 5\u001b[0m\n\u001b[1;32m      3\u001b[0m instrument_name \u001b[38;5;241m=\u001b[39m instrument\u001b[38;5;241m.\u001b[39mfind(\u001b[38;5;124m'\u001b[39m\u001b[38;5;124mname\u001b[39m\u001b[38;5;124m'\u001b[39m)\u001b[38;5;241m.\u001b[39mtext\n\u001b[1;32m      4\u001b[0m \u001b[38;5;28mprint\u001b[39m(\u001b[38;5;124mf\u001b[39m\u001b[38;5;124m\"\u001b[39m\u001b[38;5;124mID: \u001b[39m\u001b[38;5;132;01m{\u001b[39;00minstrument_id\u001b[38;5;132;01m}\u001b[39;00m\u001b[38;5;124m, Name: \u001b[39m\u001b[38;5;132;01m{\u001b[39;00minstrument_name\u001b[38;5;132;01m}\u001b[39;00m\u001b[38;5;124m\"\u001b[39m)\n\u001b[0;32m----> 5\u001b[0m \u001b[38;5;28;01mif\u001b[39;00m \u001b[38;5;129;01mnot\u001b[39;00m instrument_name \u001b[38;5;241m==\u001b[39m \u001b[43mROCK_DRUM_KIT\u001b[49m\u001b[43m[\u001b[49m\u001b[38;5;28;43mint\u001b[39;49m\u001b[43m(\u001b[49m\u001b[43minstrument_id\u001b[49m\u001b[43m)\u001b[49m\u001b[43m]\u001b[49m:\n\u001b[1;32m      6\u001b[0m     \u001b[38;5;28mprint\u001b[39m(\u001b[38;5;124m\"\u001b[39m\u001b[38;5;124mLOOK OUT!!!!! :O\u001b[39m\u001b[38;5;124m\"\u001b[39m)\n",
      "\u001b[0;31mIndexError\u001b[0m: list index out of range"
     ]
    }
   ],
   "source": [
    "for instrument in root.xpath('//instrument'):\n",
    "    instrument_id = instrument.find('id').text\n",
    "    instrument_name = instrument.find('name').text\n",
    "    print(f\"ID: {instrument_id}, Name: {instrument_name}\")\n",
    "    if not instrument_name == ROCK_DRUM_KIT[int(instrument_id)]:\n",
    "        print(\"LOOK OUT!!!!! :O\")\n"
   ]
  },
  {
   "cell_type": "code",
   "execution_count": null,
   "id": "e3e77462-8141-4457-aecc-ae6f8fc801a8",
   "metadata": {},
   "outputs": [],
   "source": [
    "instruments = root.xpath('//instrument')"
   ]
  },
  {
   "cell_type": "code",
   "execution_count": null,
   "id": "8868ef2a-335c-4045-a49f-456eb50532fc",
   "metadata": {},
   "outputs": [],
   "source": [
    "from lxml import etree\n",
    "\n",
    "# Parse the drumkit.xml file\n",
    "tree = etree.parse('data/GMRockKit/drumkit.xml')\n",
    "root = tree.getroot()\n"
   ]
  },
  {
   "cell_type": "code",
   "execution_count": null,
   "id": "306f2aa6-8c62-4304-9cc8-c5a6b250ac94",
   "metadata": {
    "scrolled": true
   },
   "outputs": [],
   "source": [
    "# Strip the default namespace from the XML\n",
    "for elem in root.iter():\n",
    "    # Remove the namespace from the tag names\n",
    "    elem.tag = etree.QName(elem).localname\n",
    "\n",
    "# Now, we can use XPath without worrying about the namespace\n",
    "for instrument in root.xpath('//instrument'):\n",
    "    instrument_id = instrument.find('id').text\n",
    "    instrument_name = instrument.find('name').text\n",
    "    print(f\"ID: {instrument_id}, Name: {instrument_name}\")\n"
   ]
  },
  {
   "cell_type": "code",
   "execution_count": null,
   "id": "563e2f49-a207-499e-bcba-9eee5b63e234",
   "metadata": {
    "scrolled": true
   },
   "outputs": [],
   "source": [
    "for instrument in root.xpath('//instrument'):\n",
    "    instrument_id = instrument.find('id').text\n",
    "    instrument_name = instrument.find('name').text\n",
    "    print(f\"ID: {instrument_id}, Name: {instrument_name}\")\n",
    "    if not instrument_name == GM_ROCK_KIT[int(instrument_id)]:\n",
    "        print(\"LOOK OUT!!!!! :O\")\n"
   ]
  },
  {
   "cell_type": "code",
   "execution_count": null,
   "id": "c2810577-82ee-4901-a16c-3115626cda96",
   "metadata": {},
   "outputs": [],
   "source": [
    "from lxml import etree\n",
    "\n",
    "# Load the original .h2song file\n",
    "tree = etree.parse('original.h2song')\n",
    "root = tree.getroot()\n",
    "\n",
    "# Find all <note> tags (adjust path based on your file structure)\n",
    "notes = root.findall('.//note')  # Might need something like './/pattern/note' depending on nesting\n",
    "\n",
    "# New root for the output file\n",
    "new_root = etree.Element('hydrogen')  # Or whatever the root tag is in your .h2song\n",
    "\n",
    "# Process each note\n",
    "for note in notes:\n",
    "    instrument = note.find('instrument').text  # Assuming <instrument> is a subtag with an ID or name\n",
    "    velocity = note.find('velocity').text     # Preserve original velocity\n",
    "    position = note.find('position').text     # Preserve timing position\n",
    "    \n",
    "    # Number of duplicates (e.g., 3 for bass drum)\n",
    "    duplicates = 3 if instrument == '0' else 1  # Adjust '0' to match your bass drum ID in GMRockKit\n",
    "    \n",
    "    # Create multiple <note> tags\n",
    "    for _ in range(duplicates):\n",
    "        new_note = etree.SubElement(new_root, 'note')\n",
    "        etree.SubElement(new_note, 'instrument').text = instrument  # Map to your custom kit ID if needed\n",
    "        etree.SubElement(new_note, 'velocity').text = velocity\n",
    "        etree.SubElement(new_note, 'position').text = position\n",
    "\n",
    "# Write to new file\n",
    "new_tree = etree.ElementTree(new_root)\n",
    "new_tree.write('output.h2song', pretty_print=True, xml_declaration=True, encoding='UTF-8')"
   ]
  },
  {
   "cell_type": "raw",
   "id": "5ac7eb87-b4fe-4b2f-bb0a-52e07aa0166e",
   "metadata": {},
   "source": [
    "ARGS.args[0]"
   ]
  },
  {
   "cell_type": "code",
   "execution_count": null,
   "id": "f5a3c803-7466-4f32-9d79-8d0b890dd634",
   "metadata": {},
   "outputs": [],
   "source": [
    "RECURSIVE"
   ]
  },
  {
   "cell_type": "code",
   "execution_count": null,
   "id": "ecf0cd21-43d4-4f4c-befb-38d780b7916f",
   "metadata": {},
   "outputs": [],
   "source": []
  }
 ],
 "metadata": {
  "kernelspec": {
   "display_name": "Python 3.13",
   "language": "python",
   "name": "python-3.13"
  },
  "language_info": {
   "codemirror_mode": {
    "name": "ipython",
    "version": 3
   },
   "file_extension": ".py",
   "mimetype": "text/x-python",
   "name": "python",
   "nbconvert_exporter": "python",
   "pygments_lexer": "ipython3",
   "version": "3.13.2"
  }
 },
 "nbformat": 4,
 "nbformat_minor": 5
}
