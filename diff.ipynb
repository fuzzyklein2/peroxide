{
 "cells": [
  {
   "cell_type": "code",
   "execution_count": null,
   "id": "b4580904-4ff4-40c5-8e70-7db2110ddb6a",
   "metadata": {},
   "outputs": [],
   "source": [
    "import difflib\n",
    "\n",
    "def generate_diff_html(file1, file2, output_file):\n",
    "    \"\"\" Example usage\n",
    "    generate_diff_html('file1.txt', 'file2.txt', 'diff_output.html')\n",
    "    \"\"\"\n",
    "    # Read the contents of the files\n",
    "    with open(file1, 'r') as f1, open(file2, 'r') as f2:\n",
    "        text1 = f1.readlines()\n",
    "        text2 = f2.readlines()\n",
    "\n",
    "    # Generate the HTML diff\n",
    "    differ = difflib.HtmlDiff()\n",
    "    html_diff = differ.make_file(text1, text2, file1, file2)\n",
    "\n",
    "    # Write the output to an HTML file\n",
    "    with open(output_file, 'w') as f_out:\n",
    "        f_out.write(html_diff)\n",
    "\n",
    "    print(f\"HTML diff has been written to {output_file}\")\n",
    "\n"
   ]
  },
  {
   "cell_type": "code",
   "execution_count": null,
   "id": "938c788b-720d-4d91-ba30-f517d73999f1",
   "metadata": {},
   "outputs": [],
   "source": [
    "generate_diff_html('input.h2song', 'output.h2song', 'diff_output.html')"
   ]
  },
  {
   "cell_type": "code",
   "execution_count": null,
   "id": "c8367993-41c1-4c2b-bb2b-bb965163e0bf",
   "metadata": {},
   "outputs": [],
   "source": [
    "from pathlib import Path\n",
    "import site\n",
    "site.addsitedir(Path.home() / 'py/tools/tools')\n",
    "import lyrix\n",
    "from tools import public\n"
   ]
  },
  {
   "cell_type": "code",
   "execution_count": null,
   "id": "6264a2a7-ee18-4090-9041-355ee998c617",
   "metadata": {},
   "outputs": [],
   "source": [
    "Path.cwd()"
   ]
  },
  {
   "cell_type": "code",
   "execution_count": null,
   "id": "5ab02a65-9eea-4925-9c2d-27f8f1b0efde",
   "metadata": {},
   "outputs": [],
   "source": [
    "import os\n",
    "os.chdir(Path('Documents/GitHub/peroxide'))"
   ]
  },
  {
   "cell_type": "code",
   "execution_count": null,
   "id": "619c7af1-eb8b-46bc-9e7d-e18bde9905af",
   "metadata": {},
   "outputs": [],
   "source": [
    "import sys"
   ]
  },
  {
   "cell_type": "code",
   "execution_count": null,
   "id": "6a690c5f-3158-4564-b457-f802a3adb493",
   "metadata": {},
   "outputs": [],
   "source": [
    "sys.version"
   ]
  },
  {
   "cell_type": "code",
   "execution_count": null,
   "id": "ccf7bd03-a85c-482f-a676-39da2f50d759",
   "metadata": {},
   "outputs": [],
   "source": []
  },
  {
   "cell_type": "code",
   "execution_count": null,
   "id": "a08560cf-cfc4-4879-bfd7-3df2bafb35a8",
   "metadata": {},
   "outputs": [],
   "source": [
    "import logging\n",
    "from IPython.display import display\n",
    "import sys\n",
    "import os\n",
    "\n",
    "# Define global variable for log file\n",
    "LOG_FILE = \"notebook_output.log\"\n",
    "\n",
    "# Ensure the log file exists\n",
    "if not os.path.exists(LOG_FILE):\n",
    "    with open(LOG_FILE, 'w'):\n",
    "        pass  # Create an empty file\n",
    "\n",
    "# Custom handler to display logs in Jupyter notebook cells\n",
    "class JupyterHandler(logging.Handler):\n",
    "    def emit(self, record):\n",
    "        log_entry = self.format(record)\n",
    "        display({\"text/plain\": log_entry}, raw=True)\n",
    "\n",
    "# Function to set up logging\n",
    "def setup_logging():\n",
    "    logger = logging.getLogger()\n",
    "    if logger.hasHandlers():\n",
    "        logger.handlers.clear()  # Remove existing handlers to avoid duplication\n",
    "\n",
    "    # Set up logging to file\n",
    "    file_handler = logging.FileHandler(LOG_FILE, mode='a')\n",
    "    file_handler.setLevel(logging.DEBUG)\n",
    "    file_formatter = logging.Formatter('%(asctime)s - %(levelname)s - %(message)s')\n",
    "    file_handler.setFormatter(file_formatter)\n",
    "\n",
    "    # Set up logging to Jupyter output\n",
    "    jupyter_handler = JupyterHandler()\n",
    "    jupyter_handler.setLevel(logging.INFO)\n",
    "    jupyter_formatter = logging.Formatter('%(asctime)s - %(levelname)s - %(message)s')\n",
    "    jupyter_handler.setFormatter(jupyter_formatter)\n",
    "\n",
    "    # Set up logging to Jupyter notebook cell output (stdout)\n",
    "    stream_handler = logging.StreamHandler(sys.stdout)\n",
    "    stream_handler.setLevel(logging.INFO)\n",
    "    stream_handler.setFormatter(jupyter_formatter)\n",
    "\n",
    "    # Configure root logger\n",
    "    logger.setLevel(logging.DEBUG)\n",
    "    logger.addHandler(file_handler)\n",
    "    logger.addHandler(jupyter_handler)\n",
    "    logger.addHandler(stream_handler)\n",
    "\n",
    "# Initialize logging\n",
    "setup_logging()\n",
    "\n",
    "# Example log messages\n",
    "logger = logging.getLogger()\n",
    "logger.info(\"This is an info message displayed in the notebook.\")\n",
    "logger.warning(\"This is a warning message shown in the notebook and saved to file.\")\n",
    "logger.error(\"This error message will be logged both in the notebook and in the log file.\")\n"
   ]
  },
  {
   "cell_type": "code",
   "execution_count": null,
   "id": "6d6c0574-af9f-4c23-a05e-04561c09e745",
   "metadata": {},
   "outputs": [],
   "source": [
    "from pathlib import Path\n",
    "Path.cwd()"
   ]
  },
  {
   "cell_type": "code",
   "execution_count": null,
   "id": "a57f95b8-f73c-4709-8884-b07db8eeb751",
   "metadata": {},
   "outputs": [],
   "source": [
    "import os\n",
    "os.chdir('Documents/GitHub/peroxide')"
   ]
  },
  {
   "cell_type": "code",
   "execution_count": null,
   "id": "b2a714d0-c443-4ea1-9d53-bfcef0e652bd",
   "metadata": {},
   "outputs": [],
   "source": []
  }
 ],
 "metadata": {
  "kernelspec": {
   "display_name": "Python 3 (ipykernel)",
   "language": "python",
   "name": "python3"
  },
  "language_info": {
   "codemirror_mode": {
    "name": "ipython",
    "version": 3
   },
   "file_extension": ".py",
   "mimetype": "text/x-python",
   "name": "python",
   "nbconvert_exporter": "python",
   "pygments_lexer": "ipython3",
   "version": "3.12.8"
  }
 },
 "nbformat": 4,
 "nbformat_minor": 5
}
