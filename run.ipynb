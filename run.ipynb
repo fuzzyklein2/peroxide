{
 "cells": [
  {
   "cell_type": "code",
   "execution_count": 9,
   "id": "3486ab75-abc5-4c71-9809-52a3f19e5388",
   "metadata": {},
   "outputs": [],
   "source": [
    "import subprocess"
   ]
  },
  {
   "cell_type": "code",
   "execution_count": 1,
   "id": "4cd86404-0b08-4990-ad54-92016a9b75aa",
   "metadata": {},
   "outputs": [],
   "source": [
    "from py.tools import *"
   ]
  },
  {
   "cell_type": "code",
   "execution_count": 4,
   "id": "80aa2667-d912-4d67-b6bd-e4e84785238d",
   "metadata": {},
   "outputs": [
    {
     "data": {
      "text/plain": [
       "PosixPath('/home/fuzzy/Documents/GitHub/peroxide-0.0.0')"
      ]
     },
     "execution_count": 4,
     "metadata": {},
     "output_type": "execute_result"
    }
   ],
   "source": [
    "Path.cwd()"
   ]
  },
  {
   "cell_type": "code",
   "execution_count": null,
   "id": "d159c4ef-551e-410d-9a88-8851c2229a3d",
   "metadata": {},
   "outputs": [],
   "source": [
    "def run(s, verbose=True):\n",
    "    "
   ]
  }
 ],
 "metadata": {
  "kernelspec": {
   "display_name": "Python 3.13",
   "language": "python",
   "name": "python-3.13"
  },
  "language_info": {
   "codemirror_mode": {
    "name": "ipython",
    "version": 3
   },
   "file_extension": ".py",
   "mimetype": "text/x-python",
   "name": "python",
   "nbconvert_exporter": "python",
   "pygments_lexer": "ipython3",
   "version": "3.13.2"
  }
 },
 "nbformat": 4,
 "nbformat_minor": 5
}
